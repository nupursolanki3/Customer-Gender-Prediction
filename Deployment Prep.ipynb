{
 "cells": [
  {
   "cell_type": "code",
   "execution_count": 11,
   "id": "1c1199fa",
   "metadata": {},
   "outputs": [],
   "source": [
    "import joblib\n",
    "\n",
    "model = joblib.load('best_model.pkl')\n",
    "scaler = joblib.load('scaler.pkl')"
   ]
  },
  {
   "cell_type": "code",
   "execution_count": 13,
   "id": "ba2b8255",
   "metadata": {},
   "outputs": [
    {
     "name": "stderr",
     "output_type": "stream",
     "text": [
      "C:\\Users\\nupur\\anaconda3\\lib\\site-packages\\sklearn\\base.py:493: UserWarning: X does not have valid feature names, but StandardScaler was fitted with feature names\n",
      "  warnings.warn(\n"
     ]
    },
    {
     "ename": "NameError",
     "evalue": "name 'lr' is not defined",
     "output_type": "error",
     "traceback": [
      "\u001b[1;31m---------------------------------------------------------------------------\u001b[0m",
      "\u001b[1;31mNameError\u001b[0m                                 Traceback (most recent call last)",
      "\u001b[1;32m~\\AppData\\Local\\Temp/ipykernel_59868/2234850058.py\u001b[0m in \u001b[0;36m<module>\u001b[1;34m\u001b[0m\n\u001b[0;32m      4\u001b[0m \u001b[0mX_new_scaled\u001b[0m \u001b[1;33m=\u001b[0m \u001b[0mscaler\u001b[0m\u001b[1;33m.\u001b[0m\u001b[0mtransform\u001b[0m\u001b[1;33m(\u001b[0m\u001b[0mX_new\u001b[0m\u001b[1;33m)\u001b[0m\u001b[1;33m\u001b[0m\u001b[1;33m\u001b[0m\u001b[0m\n\u001b[0;32m      5\u001b[0m \u001b[1;33m\u001b[0m\u001b[0m\n\u001b[1;32m----> 6\u001b[1;33m \u001b[0my_pred\u001b[0m \u001b[1;33m=\u001b[0m \u001b[0mlr\u001b[0m\u001b[1;33m.\u001b[0m\u001b[0mpredict\u001b[0m\u001b[1;33m(\u001b[0m\u001b[0mX_new_scaled\u001b[0m\u001b[1;33m)\u001b[0m\u001b[1;33m\u001b[0m\u001b[1;33m\u001b[0m\u001b[0m\n\u001b[0m\u001b[0;32m      7\u001b[0m \u001b[1;33m\u001b[0m\u001b[0m\n\u001b[0;32m      8\u001b[0m \u001b[0mprint\u001b[0m\u001b[1;33m(\u001b[0m\u001b[1;34m\"Predicted Gender:\"\u001b[0m\u001b[1;33m,\u001b[0m \u001b[1;34m\"Male\"\u001b[0m \u001b[1;32mif\u001b[0m \u001b[0my_pred\u001b[0m\u001b[1;33m[\u001b[0m\u001b[1;36m0\u001b[0m\u001b[1;33m]\u001b[0m \u001b[1;33m==\u001b[0m \u001b[1;36m1\u001b[0m \u001b[1;32melse\u001b[0m \u001b[1;34m\"Female\"\u001b[0m\u001b[1;33m)\u001b[0m\u001b[1;33m\u001b[0m\u001b[1;33m\u001b[0m\u001b[0m\n",
      "\u001b[1;31mNameError\u001b[0m: name 'lr' is not defined"
     ]
    }
   ],
   "source": [
    "# import numpy as np\n",
    "# X_new = np.array([[30, 1, 1, 70, 49, 1, 0, 8, 4.2, 1, 2, 1, 1, 25, 4, 3]])\n",
    "\n",
    "# X_new_scaled = scaler.transform(X_new)\n",
    "\n",
    "# y_pred = lr.predict(X_new_scaled)\n",
    "\n",
    "# print(\"Predicted Gender:\", \"Male\" if y_pred[0] == 1 else \"Female\")"
   ]
  },
  {
   "cell_type": "code",
   "execution_count": 15,
   "id": "3866f9aa",
   "metadata": {},
   "outputs": [
    {
     "name": "stdout",
     "output_type": "stream",
     "text": [
      "Predicted Gender: Male\n"
     ]
    },
    {
     "name": "stderr",
     "output_type": "stream",
     "text": [
      "C:\\Users\\nupur\\anaconda3\\lib\\site-packages\\sklearn\\base.py:493: UserWarning: X does not have valid feature names, but StandardScaler was fitted with feature names\n",
      "  warnings.warn(\n"
     ]
    }
   ],
   "source": [
    "import pickle\n",
    "\n",
    "with open(\"best_model.pkl\", \"rb\") as f:\n",
    "    lr = pickle.load(f)\n",
    "\n",
    "# Load the scaler if needed\n",
    "with open(\"scaler.pkl\", \"rb\") as f:\n",
    "    scaler = pickle.load(f)\n",
    "\n",
    "# Then your prediction code will work\n",
    "X_new = np.array([[30, 1, 1, 70, 49, 1, 0, 8, 4.2, 1, 2, 1, 1, 25, 4, 3]])\n",
    "X_new_scaled = scaler.transform(X_new)\n",
    "y_pred = lr.predict(X_new_scaled)\n",
    "print(\"Predicted Gender:\", \"Male\" if y_pred[0] == 1 else \"Female\")\n"
   ]
  },
  {
   "cell_type": "code",
   "execution_count": null,
   "id": "45b912db",
   "metadata": {},
   "outputs": [],
   "source": [
    "pip install streamlit"
   ]
  },
  {
   "cell_type": "code",
   "execution_count": null,
   "id": "31241d5c",
   "metadata": {},
   "outputs": [],
   "source": [
    "# pip install --upgrade altair"
   ]
  },
  {
   "cell_type": "code",
   "execution_count": null,
   "id": "96890653",
   "metadata": {},
   "outputs": [],
   "source": [
    "conda install -c conda-forge altair"
   ]
  },
  {
   "cell_type": "code",
   "execution_count": null,
   "id": "99d3dcdd",
   "metadata": {},
   "outputs": [],
   "source": [
    "import streamlit as st"
   ]
  },
  {
   "cell_type": "code",
   "execution_count": null,
   "id": "c94f4189",
   "metadata": {},
   "outputs": [],
   "source": [
    "model = joblib.load(\"lr_model.pkl\")\n",
    "scaler = joblib.load(\"scaler.pkl\")\n",
    "\n",
    "st.title(\"Customer Gender Prediction App\")\n",
    "\n",
    "# Input fields\n",
    "age = st.number_input(\"Age\", min_value=0)\n",
    "item_purchased = st.selectbox(\"Item Purchased (encoded)\", [2, 11, 14, 23, ...])  # use your label-encoded values\n",
    "category = st.selectbox(\"Category (encoded)\", [1, 2])  # Clothing=1, Footwear=2\n",
    "purchase_amt = st.number_input(\"Purchase Amount\")\n",
    "location = st.selectbox(\"Location (encoded)\", [49, 64, 73, ...])  # encoded\n",
    "size = st.selectbox(\"Size (encoded)\", [0, 1, 2])  # S=0, M=1, L=2 (as per encoding)\n",
    "color = st.selectbox(\"Color (encoded)\", [7, 12, 21, ...])\n",
    "season = st.selectbox(\"Season (encoded)\", [3, 4, 5])  # Example\n",
    "review_rating = st.slider(\"Review Rating\", 0.0, 5.0, step=0.1)\n",
    "subscription_status = st.selectbox(\"Subscription (Yes=1, No=0)\", [0, 1])\n",
    "shipping_type = st.selectbox(\"Shipping Type (encoded)\", [1, 2, 3])\n",
    "discount = st.selectbox(\"Discount Applied (Yes=1, No=0)\", [0, 1])\n",
    "promo_code = st.selectbox(\"Promo Code Used (Yes=1, No=0)\", [0, 1])\n",
    "previous_purchases = st.number_input(\"Previous Purchases\", min_value=0)\n",
    "payment_method = st.selectbox(\"Payment Method (encoded)\", [1, 2, 3, 4])\n",
    "frequency = st.selectbox(\"Frequency of Purchase (encoded)\", [0, 1, 2, 3, 4, 5, 6])\n",
    "\n",
    "# Make prediction\n",
    "if st.button(\"Predict Gender\"):\n",
    "    X_new = np.array([[age, 1, item_purchased, category, purchase_amt, location, size, color,\n",
    "                       season, review_rating, subscription_status, shipping_type, discount,\n",
    "                       promo_code, previous_purchases, payment_method, frequency]])\n",
    "    \n",
    "    X_scaled = scaler.transform(X_new)\n",
    "    pred = model.predict(X_scaled)[0]\n",
    "    \n",
    "    st.success(f\"Predicted Gender: {'Male' if pred == 1 else 'Female'}\")"
   ]
  },
  {
   "cell_type": "code",
   "execution_count": 4,
   "id": "c0bb2845",
   "metadata": {},
   "outputs": [
    {
     "ename": "FileNotFoundError",
     "evalue": "[Errno 2] No such file or directory: 'lr_model.pkl'",
     "output_type": "error",
     "traceback": [
      "\u001b[1;31m---------------------------------------------------------------------------\u001b[0m",
      "\u001b[1;31mFileNotFoundError\u001b[0m                         Traceback (most recent call last)",
      "\u001b[1;32m~\\AppData\\Local\\Temp/ipykernel_59868/2559973201.py\u001b[0m in \u001b[0;36m<module>\u001b[1;34m\u001b[0m\n\u001b[1;32m----> 1\u001b[1;33m \u001b[0mmodel\u001b[0m \u001b[1;33m=\u001b[0m \u001b[0mjoblib\u001b[0m\u001b[1;33m.\u001b[0m\u001b[0mload\u001b[0m\u001b[1;33m(\u001b[0m\u001b[1;34m\"lr_model.pkl\"\u001b[0m\u001b[1;33m)\u001b[0m\u001b[1;33m\u001b[0m\u001b[1;33m\u001b[0m\u001b[0m\n\u001b[0m\u001b[0;32m      2\u001b[0m \u001b[0mscaler\u001b[0m \u001b[1;33m=\u001b[0m \u001b[0mjoblib\u001b[0m\u001b[1;33m.\u001b[0m\u001b[0mload\u001b[0m\u001b[1;33m(\u001b[0m\u001b[1;34m\"scaler.pkl\"\u001b[0m\u001b[1;33m)\u001b[0m\u001b[1;33m\u001b[0m\u001b[1;33m\u001b[0m\u001b[0m\n\u001b[0;32m      3\u001b[0m \u001b[1;33m\u001b[0m\u001b[0m\n\u001b[0;32m      4\u001b[0m \u001b[0mst\u001b[0m\u001b[1;33m.\u001b[0m\u001b[0mtitle\u001b[0m\u001b[1;33m(\u001b[0m\u001b[1;34m\"Customer Gender Prediction App\"\u001b[0m\u001b[1;33m)\u001b[0m\u001b[1;33m\u001b[0m\u001b[1;33m\u001b[0m\u001b[0m\n\u001b[0;32m      5\u001b[0m \u001b[1;33m\u001b[0m\u001b[0m\n",
      "\u001b[1;32m~\\anaconda3\\lib\\site-packages\\joblib\\numpy_pickle.py\u001b[0m in \u001b[0;36mload\u001b[1;34m(filename, mmap_mode)\u001b[0m\n\u001b[0;32m    648\u001b[0m             \u001b[0mobj\u001b[0m \u001b[1;33m=\u001b[0m \u001b[0m_unpickle\u001b[0m\u001b[1;33m(\u001b[0m\u001b[0mfobj\u001b[0m\u001b[1;33m)\u001b[0m\u001b[1;33m\u001b[0m\u001b[1;33m\u001b[0m\u001b[0m\n\u001b[0;32m    649\u001b[0m     \u001b[1;32melse\u001b[0m\u001b[1;33m:\u001b[0m\u001b[1;33m\u001b[0m\u001b[1;33m\u001b[0m\u001b[0m\n\u001b[1;32m--> 650\u001b[1;33m         \u001b[1;32mwith\u001b[0m \u001b[0mopen\u001b[0m\u001b[1;33m(\u001b[0m\u001b[0mfilename\u001b[0m\u001b[1;33m,\u001b[0m \u001b[1;34m'rb'\u001b[0m\u001b[1;33m)\u001b[0m \u001b[1;32mas\u001b[0m \u001b[0mf\u001b[0m\u001b[1;33m:\u001b[0m\u001b[1;33m\u001b[0m\u001b[1;33m\u001b[0m\u001b[0m\n\u001b[0m\u001b[0;32m    651\u001b[0m             \u001b[1;32mwith\u001b[0m \u001b[0m_read_fileobject\u001b[0m\u001b[1;33m(\u001b[0m\u001b[0mf\u001b[0m\u001b[1;33m,\u001b[0m \u001b[0mfilename\u001b[0m\u001b[1;33m,\u001b[0m \u001b[0mmmap_mode\u001b[0m\u001b[1;33m)\u001b[0m \u001b[1;32mas\u001b[0m \u001b[0mfobj\u001b[0m\u001b[1;33m:\u001b[0m\u001b[1;33m\u001b[0m\u001b[1;33m\u001b[0m\u001b[0m\n\u001b[0;32m    652\u001b[0m                 \u001b[1;32mif\u001b[0m \u001b[0misinstance\u001b[0m\u001b[1;33m(\u001b[0m\u001b[0mfobj\u001b[0m\u001b[1;33m,\u001b[0m \u001b[0mstr\u001b[0m\u001b[1;33m)\u001b[0m\u001b[1;33m:\u001b[0m\u001b[1;33m\u001b[0m\u001b[1;33m\u001b[0m\u001b[0m\n",
      "\u001b[1;31mFileNotFoundError\u001b[0m: [Errno 2] No such file or directory: 'lr_model.pkl'"
     ]
    }
   ],
   "source": []
  },
  {
   "cell_type": "code",
   "execution_count": null,
   "id": "a95aedf7",
   "metadata": {},
   "outputs": [],
   "source": []
  }
 ],
 "metadata": {
  "kernelspec": {
   "display_name": "Python 3 (ipykernel)",
   "language": "python",
   "name": "python3"
  },
  "language_info": {
   "codemirror_mode": {
    "name": "ipython",
    "version": 3
   },
   "file_extension": ".py",
   "mimetype": "text/x-python",
   "name": "python",
   "nbconvert_exporter": "python",
   "pygments_lexer": "ipython3",
   "version": "3.9.7"
  }
 },
 "nbformat": 4,
 "nbformat_minor": 5
}
